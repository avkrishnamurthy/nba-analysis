{
 "cells": [
  {
   "cell_type": "code",
   "execution_count": 23,
   "metadata": {},
   "outputs": [],
   "source": [
    "import pandas as pd\n",
    "import matplotlib.pyplot as plt\n",
    "import seaborn as sns\n",
    "from matplotlib.patches import Circle, Rectangle, Arc\n",
    "import numpy as np\n",
    "from scipy import stats"
   ]
  },
  {
   "cell_type": "code",
   "execution_count": 24,
   "metadata": {},
   "outputs": [
    {
     "name": "stdout",
     "output_type": "stream",
     "text": [
      "Team Data\n",
      "    Unnamed: 0   Season   Lg   Tm   W   L Finish  Unnamed: 6   Age  Ht.  ...  \\\n",
      "0            0  2021-22  NBA  MIA  53  29      1         NaN  28.2  6-5  ...   \n",
      "1            1  2020-21  NBA  MIA  40  32      2         NaN  27.4  6-6  ...   \n",
      "2            2  2019-20  NBA  MIA  44  29      1         NaN  25.9  6-6  ...   \n",
      "3            3  2018-19  NBA  MIA  39  43      3         NaN  27.0  6-7  ...   \n",
      "4            4  2017-18  NBA  MIA  44  38      1         NaN  26.5  6-6  ...   \n",
      "..         ...      ...  ...  ...  ..  ..    ...         ...   ...  ...  ...   \n",
      "52          52  1971-72  NBA  HOU  34  48      4         NaN  24.6  6-5  ...   \n",
      "53          53  1970-71  NBA  SDR  40  42      3         NaN  25.0  6-5  ...   \n",
      "54          54  1969-70  NBA  SDR  27  55      7         NaN  25.3  6-5  ...   \n",
      "55          55  1968-69  NBA  SDR  37  45      4         NaN  25.1  6-5  ...   \n",
      "56          56  1967-68  NBA  SDR  15  67      6         NaN  26.4  6-5  ...   \n",
      "\n",
      "     FT%  ORB   DRB   TRB   AST  STL  BLK   TOV    PF   PTS  \n",
      "0   .808  807  2778  3585  2090  606  265  1194  1679  9022  \n",
      "1   .790  579  2409  2988  1895  569  286  1013  1363  7781  \n",
      "2   .783  620  2619  3239  1892  547  332  1088  1501  8179  \n",
      "3   .695  921  2879  3800  1991  627  448  1208  1712  8668  \n",
      "4   .755  763  2801  3564  1862  620  437  1179  1648  8480  \n",
      "..   ...  ...   ...   ...   ...  ...  ...   ...   ...   ...  \n",
      "52  .748  NaN   NaN  4433  1777  NaN  NaN   NaN  1992  8993  \n",
      "53  .749  NaN   NaN  4686  1921  NaN  NaN   NaN  2128  9282  \n",
      "54  .733  NaN   NaN  4786  2036  NaN  NaN   NaN  2096  9732  \n",
      "55  .682  NaN   NaN  5026  1925  NaN  NaN   NaN  2110  9456  \n",
      "56  .711  NaN   NaN  5418  1837  NaN  NaN   NaN  2188  9215  \n",
      "\n",
      "[1664 rows x 35 columns]\n"
     ]
    }
   ],
   "source": [
    "#Appending datasets for each team into one large dataset\n",
    "#Reading shot data csv into pandas dataframe\n",
    "teams = [\"MIA\", \"WAS\", \"TOR\", \"PHI\", \"ORL\", \n",
    "         \"NYK\", \"MIL\", \"ATL\", \"IND\", \"CLE\", \n",
    "         \"BOS\", \"NJN\", \"CHI\", \"CHA\", \"DET\", \n",
    "         \"MEM\", \"DEN\", \"DAL\", \"MIN\", \"NOH\", \n",
    "         \"GSW\", \"OKC\", \"LAL\", \"LAC\", \"PHO\", \n",
    "         \"POR\", \"SAC\", \"SAS\", \"UTA\", \"HOU\"]\n",
    "\n",
    "team_data = pd.DataFrame()\n",
    "for team in teams:\n",
    "    team_data = pd.concat([team_data, pd.read_csv(f\"data/{team}.csv\")])\n",
    "print(\"Team Data\")\n",
    "print(team_data)\n",
    "\n",
    "shot_data = pd.read_csv(\"data/NBAShotLocations1997-2020.csv\")\n",
    "shot_data.dropna(subset=['Game Date', 'X Location', 'Y Location'])\n",
    "print(\"Shot Data\")\n",
    "print(shot_data)"
   ]
  },
  {
   "cell_type": "code",
   "execution_count": 25,
   "metadata": {},
   "outputs": [],
   "source": [
    "#https://github.com/bradleyfay/py-Goldsberry/blob/master/docs/Visualizing%20NBA%20Shots%20with%20py-Goldsberry.ipynb\n",
    "#Link to code used to draw court onto graph\n",
    "#Our team did not write this code\n",
    "\n",
    "def draw_court(ax=None, color='black', lw=1, outer_lines=False):\n",
    "    if ax is None:\n",
    "        ax = plt.gca()\n",
    "\n",
    "    # Create the various parts of an NBA basketball court\n",
    "\n",
    "    # Create the basketball hoop\n",
    "    hoop = Circle((0, 0), radius=7.5, linewidth=lw, color=color, fill=False)\n",
    "\n",
    "    # Create backboard\n",
    "    backboard = Rectangle((-30, -7.5), 60, -1, linewidth=lw, color=color)\n",
    "\n",
    "    # The paint\n",
    "    # Create the outer box 0f the paint, width=16ft, height=19ft\n",
    "    outer_box = Rectangle((-80, -47.5), 160, 190, linewidth=lw, color=color,\n",
    "                          fill=False)\n",
    "    # Create the inner box of the paint, widt=12ft, height=19ft\n",
    "    inner_box = Rectangle((-60, -47.5), 120, 190, linewidth=lw, color=color,\n",
    "                          fill=False)\n",
    "\n",
    "    # Create free throw top arc\n",
    "    top_free_throw = Arc((0, 142.5), 120, 120, theta1=0, theta2=180,\n",
    "                         linewidth=lw, color=color, fill=False)\n",
    "    # Create free throw bottom arc\n",
    "    bottom_free_throw = Arc((0, 142.5), 120, 120, theta1=180, theta2=0,\n",
    "                            linewidth=lw, color=color, linestyle='dashed')\n",
    "    # Restricted Zone, it is an arc with 4ft radius from center of the hoop\n",
    "    restricted = Arc((0, 0), 80, 80, theta1=0, theta2=180, linewidth=lw,\n",
    "                     color=color)\n",
    "\n",
    "    # Three point line\n",
    "    # Create the right side 3pt lines, it's 14ft long before it arcs\n",
    "    corner_three_a = Rectangle((-220, -47.5), 0, 140, linewidth=lw,\n",
    "                               color=color)\n",
    "    # Create the right side 3pt lines, it's 14ft long before it arcs\n",
    "    corner_three_b = Rectangle((220, -47.5), 0, 140, linewidth=lw, color=color)\n",
    "    # 3pt arc - center of arc will be the hoop, arc is 23'9\" away from hoop\n",
    "    three_arc = Arc((0, 0), 475, 475, theta1=22, theta2=158, linewidth=lw,\n",
    "                    color=color)\n",
    "\n",
    "    # Center Court\n",
    "    center_outer_arc = Arc((0, 422.5), 120, 120, theta1=180, theta2=0,\n",
    "                           linewidth=lw, color=color)\n",
    "    center_inner_arc = Arc((0, 422.5), 40, 40, theta1=180, theta2=0,\n",
    "                           linewidth=lw, color=color)\n",
    "\n",
    "    # List of the court elements to be plotted onto the axes\n",
    "    court_elements = [hoop, backboard, outer_box, inner_box, top_free_throw,\n",
    "                      bottom_free_throw, restricted, corner_three_a,\n",
    "                      corner_three_b, three_arc, center_outer_arc,\n",
    "                      center_inner_arc]\n",
    "\n",
    "    if outer_lines:\n",
    "        # Draw the half court line, baseline and side out bound lines\n",
    "        outer_lines = Rectangle((-250, -47.5), 500, 470, linewidth=lw,\n",
    "                                color=color, fill=False)\n",
    "        court_elements.append(outer_lines)\n",
    "\n",
    "    # Add the court elements onto the axes\n",
    "    for element in court_elements:\n",
    "        ax.add_patch(element)\n",
    "\n",
    "    return ax"
   ]
  },
  {
   "cell_type": "code",
   "execution_count": 26,
   "metadata": {},
   "outputs": [],
   "source": [
    "#Function used to plot the shots onto a graph using the X and Y Location provided by the data\n",
    "#Params: data -> filtered data, color -> color of graph, alpha -> transparency of each data point\n",
    "#        year -> year in which data is describing, player -> player in which data is for\n",
    "#        reg_or_playoff -> whether the game type is regular season, playoffs, or both\n",
    "\n",
    "def plot_map(data, color, size, alpha, year, player):\n",
    "    #Using a seaborn relplot to plot all the points using their X and Y location\n",
    "    sns.relplot(data = data, x = \"X Location\", y = \"Y Location\",\\\n",
    "                color = color, size = size, alpha = alpha, legend = False)\n",
    "    \n",
    "    #Setting the title of the graph\n",
    "    plt.title(str(player) + \" Shot Distribution in \" +\\\n",
    "              str(year))\n",
    "    #Removing the x and y axes from the graph to make it look more like a basketball court\n",
    "    plt.axis(\"off\")\n",
    "    #Setting the x and y limits to keep the shape of the court uniform for any shot distribution\n",
    "    plt.xlim(-250, 250)\n",
    "    plt.ylim(-50, 450)\n",
    "    \n",
    "    draw_court()\n",
    "    plt.savefig(str(player)+str(year)+'heatmap.png', bbox_inches='tight')"
   ]
  },
  {
   "cell_type": "code",
   "execution_count": 27,
   "metadata": {},
   "outputs": [
    {
     "ename": "NameError",
     "evalue": "name 'shot_data' is not defined",
     "output_type": "error",
     "traceback": [
      "\u001b[1;31m---------------------------------------------------------------------------\u001b[0m",
      "\u001b[1;31mNameError\u001b[0m                                 Traceback (most recent call last)",
      "\u001b[1;32mc:\\Users\\19199\\CS216\\CS216-Project\\analysis.ipynb Cell 5\u001b[0m in \u001b[0;36m<cell line: 2>\u001b[1;34m()\u001b[0m\n\u001b[0;32m      <a href='vscode-notebook-cell:/c%3A/Users/19199/CS216/CS216-Project/analysis.ipynb#W4sZmlsZQ%3D%3D?line=0'>1</a>\u001b[0m \u001b[39m#2019 Shot Chart\u001b[39;00m\n\u001b[1;32m----> <a href='vscode-notebook-cell:/c%3A/Users/19199/CS216/CS216-Project/analysis.ipynb#W4sZmlsZQ%3D%3D?line=1'>2</a>\u001b[0m plot_map(data \u001b[39m=\u001b[39m shot_data[shot_data[\u001b[39m\"\u001b[39m\u001b[39mGame Date\u001b[39m\u001b[39m\"\u001b[39m]\u001b[39m.\u001b[39mastype(\u001b[39mstr\u001b[39m)\u001b[39m.\u001b[39mstr\u001b[39m.\u001b[39mstartswith(\u001b[39m\"\u001b[39m\u001b[39m2019\u001b[39m\u001b[39m\"\u001b[39m)]\u001b[39m.\u001b[39mhead(\u001b[39m100000\u001b[39m), \n\u001b[0;32m      <a href='vscode-notebook-cell:/c%3A/Users/19199/CS216/CS216-Project/analysis.ipynb#W4sZmlsZQ%3D%3D?line=2'>3</a>\u001b[0m          color \u001b[39m=\u001b[39m \u001b[39m\"\u001b[39m\u001b[39mindianred\u001b[39m\u001b[39m\"\u001b[39m, \n\u001b[0;32m      <a href='vscode-notebook-cell:/c%3A/Users/19199/CS216/CS216-Project/analysis.ipynb#W4sZmlsZQ%3D%3D?line=3'>4</a>\u001b[0m          size \u001b[39m=\u001b[39m \u001b[39m0.01\u001b[39m, \n\u001b[0;32m      <a href='vscode-notebook-cell:/c%3A/Users/19199/CS216/CS216-Project/analysis.ipynb#W4sZmlsZQ%3D%3D?line=4'>5</a>\u001b[0m          alpha \u001b[39m=\u001b[39m \u001b[39m0.02\u001b[39m, \n\u001b[0;32m      <a href='vscode-notebook-cell:/c%3A/Users/19199/CS216/CS216-Project/analysis.ipynb#W4sZmlsZQ%3D%3D?line=5'>6</a>\u001b[0m          year \u001b[39m=\u001b[39m \u001b[39m2019\u001b[39m, \n\u001b[0;32m      <a href='vscode-notebook-cell:/c%3A/Users/19199/CS216/CS216-Project/analysis.ipynb#W4sZmlsZQ%3D%3D?line=6'>7</a>\u001b[0m          player \u001b[39m=\u001b[39m \u001b[39m\"\u001b[39m\u001b[39mNBA\u001b[39m\u001b[39m\"\u001b[39m)\n\u001b[0;32m      <a href='vscode-notebook-cell:/c%3A/Users/19199/CS216/CS216-Project/analysis.ipynb#W4sZmlsZQ%3D%3D?line=7'>8</a>\u001b[0m \u001b[39m#1998 Shot Chart\u001b[39;00m\n\u001b[0;32m      <a href='vscode-notebook-cell:/c%3A/Users/19199/CS216/CS216-Project/analysis.ipynb#W4sZmlsZQ%3D%3D?line=8'>9</a>\u001b[0m plot_map(data \u001b[39m=\u001b[39m shot_data[shot_data[\u001b[39m\"\u001b[39m\u001b[39mGame Date\u001b[39m\u001b[39m\"\u001b[39m]\u001b[39m.\u001b[39mastype(\u001b[39mstr\u001b[39m)\u001b[39m.\u001b[39mstr\u001b[39m.\u001b[39mstartswith(\u001b[39m\"\u001b[39m\u001b[39m1998\u001b[39m\u001b[39m\"\u001b[39m)]\u001b[39m.\u001b[39mhead(\u001b[39m100000\u001b[39m),\n\u001b[0;32m     <a href='vscode-notebook-cell:/c%3A/Users/19199/CS216/CS216-Project/analysis.ipynb#W4sZmlsZQ%3D%3D?line=9'>10</a>\u001b[0m          color \u001b[39m=\u001b[39m \u001b[39m\"\u001b[39m\u001b[39mindianred\u001b[39m\u001b[39m\"\u001b[39m, \n\u001b[0;32m     <a href='vscode-notebook-cell:/c%3A/Users/19199/CS216/CS216-Project/analysis.ipynb#W4sZmlsZQ%3D%3D?line=10'>11</a>\u001b[0m          size \u001b[39m=\u001b[39m \u001b[39m0.01\u001b[39m, \n\u001b[0;32m     <a href='vscode-notebook-cell:/c%3A/Users/19199/CS216/CS216-Project/analysis.ipynb#W4sZmlsZQ%3D%3D?line=11'>12</a>\u001b[0m          alpha \u001b[39m=\u001b[39m \u001b[39m0.02\u001b[39m, \n\u001b[0;32m     <a href='vscode-notebook-cell:/c%3A/Users/19199/CS216/CS216-Project/analysis.ipynb#W4sZmlsZQ%3D%3D?line=12'>13</a>\u001b[0m          year \u001b[39m=\u001b[39m \u001b[39m1998\u001b[39m, \n\u001b[0;32m     <a href='vscode-notebook-cell:/c%3A/Users/19199/CS216/CS216-Project/analysis.ipynb#W4sZmlsZQ%3D%3D?line=13'>14</a>\u001b[0m          player \u001b[39m=\u001b[39m \u001b[39m\"\u001b[39m\u001b[39mNBA\u001b[39m\u001b[39m\"\u001b[39m)\n",
      "\u001b[1;31mNameError\u001b[0m: name 'shot_data' is not defined"
     ]
    }
   ],
   "source": [
    "#2019 Shot Chart\n",
    "plot_map(data = shot_data[shot_data[\"Game Date\"].astype(str).str.startswith(\"2019\")].head(100000), \n",
    "         color = \"indianred\", \n",
    "         size = 0.01, \n",
    "         alpha = 0.02, \n",
    "         year = 2019, \n",
    "         player = \"NBA\")\n",
    "#1998 Shot Chart\n",
    "plot_map(data = shot_data[shot_data[\"Game Date\"].astype(str).str.startswith(\"1998\")].head(100000),\n",
    "         color = \"indianred\", \n",
    "         size = 0.01, \n",
    "         alpha = 0.02, \n",
    "         year = 1998, \n",
    "         player = \"NBA\")"
   ]
  },
  {
   "cell_type": "code",
   "execution_count": 49,
   "metadata": {},
   "outputs": [
    {
     "name": "stdout",
     "output_type": "stream",
     "text": [
      "6.526235847309229e-85\n"
     ]
    }
   ],
   "source": [
    "#Hypothesis test for research question 1\n",
    "seasons_new = [\"2021-22\",\"2020-21\",\"2019-20\",\"2018-19\",\"2017-18\", \"2016-17\", \"2015-16\",\"2014-15\",\"2013-14\",\"2012-13\"]\n",
    "seasons_old = [\"2011-12\", \"2010-11\", \"2009-2010\", \"2008-09\", \"2007-08\", \"2006-07\",\"2005-06\",\"2004-05\",\"2003-04\",\"2002-2003\"]\n",
    "present_3 = team_data[team_data[\"Season\"].isin(seasons_new)][\"3PA\"].astype(int)\n",
    "past_3 = team_data[team_data[\"Season\"].isin(seasons_old)][\"3PA\"].astype(int)\n",
    "\n",
    "ttest = stats.ttest_ind(present_3,past_3)\n",
    "p_value = ttest.pvalue\n",
    "\n",
    "print(p_value)\n",
    "#test"
   ]
  }
 ],
 "metadata": {
  "kernelspec": {
   "display_name": "Python 3 (ipykernel)",
   "language": "python",
   "name": "python3"
  },
  "language_info": {
   "codemirror_mode": {
    "name": "ipython",
    "version": 3
   },
   "file_extension": ".py",
   "mimetype": "text/x-python",
   "name": "python",
   "nbconvert_exporter": "python",
   "pygments_lexer": "ipython3",
   "version": "3.9.12"
  },
  "vscode": {
   "interpreter": {
    "hash": "cff3ba0700c9e208afd8f1005cd28c2e87f39cc0f73fc14c7406b88675550815"
   }
  }
 },
 "nbformat": 4,
 "nbformat_minor": 2
}
